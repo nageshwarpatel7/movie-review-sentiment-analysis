{
 "cells": [
  {
   "cell_type": "code",
   "execution_count": 1,
   "id": "82a56743",
   "metadata": {},
   "outputs": [],
   "source": [
    "## step 1: import libraries and load the model\n",
    "import numpy as np\n",
    "import tensorflow as tf\n",
    "from tensorflow.keras.datasets import imdb\n",
    "from tensorflow.keras.preprocessing import sequence\n",
    "from tensorflow.keras.models import load_model"
   ]
  },
  {
   "cell_type": "code",
   "execution_count": 2,
   "id": "24e865f8",
   "metadata": {},
   "outputs": [],
   "source": [
    "## Load IMDB dataset, word index\n",
    "word_index = imdb.get_word_index()\n",
    "reverse_word_index = {value:key for key,value in word_index.items()}"
   ]
  },
  {
   "cell_type": "code",
   "execution_count": 3,
   "id": "4cec583d",
   "metadata": {},
   "outputs": [
    {
     "name": "stderr",
     "output_type": "stream",
     "text": [
      "WARNING:absl:Compiled the loaded model, but the compiled metrics have yet to be built. `model.compile_metrics` will be empty until you train or evaluate the model.\n"
     ]
    },
    {
     "data": {
      "text/html": [
       "<pre style=\"white-space:pre;overflow-x:auto;line-height:normal;font-family:Menlo,'DejaVu Sans Mono',consolas,'Courier New',monospace\"><span style=\"font-weight: bold\">Model: \"sequential_1\"</span>\n",
       "</pre>\n"
      ],
      "text/plain": [
       "\u001b[1mModel: \"sequential_1\"\u001b[0m\n"
      ]
     },
     "metadata": {},
     "output_type": "display_data"
    },
    {
     "data": {
      "text/html": [
       "<pre style=\"white-space:pre;overflow-x:auto;line-height:normal;font-family:Menlo,'DejaVu Sans Mono',consolas,'Courier New',monospace\">┏━━━━━━━━━━━━━━━━━━━━━━━━━━━━━━━━━┳━━━━━━━━━━━━━━━━━━━━━━━━┳━━━━━━━━━━━━━━━┓\n",
       "┃<span style=\"font-weight: bold\"> Layer (type)                    </span>┃<span style=\"font-weight: bold\"> Output Shape           </span>┃<span style=\"font-weight: bold\">       Param # </span>┃\n",
       "┡━━━━━━━━━━━━━━━━━━━━━━━━━━━━━━━━━╇━━━━━━━━━━━━━━━━━━━━━━━━╇━━━━━━━━━━━━━━━┩\n",
       "│ embedding_1 (<span style=\"color: #0087ff; text-decoration-color: #0087ff\">Embedding</span>)         │ (<span style=\"color: #00af00; text-decoration-color: #00af00\">32</span>, <span style=\"color: #00af00; text-decoration-color: #00af00\">500</span>, <span style=\"color: #00af00; text-decoration-color: #00af00\">128</span>)         │     <span style=\"color: #00af00; text-decoration-color: #00af00\">1,280,000</span> │\n",
       "├─────────────────────────────────┼────────────────────────┼───────────────┤\n",
       "│ simple_rnn_1 (<span style=\"color: #0087ff; text-decoration-color: #0087ff\">SimpleRNN</span>)        │ (<span style=\"color: #00af00; text-decoration-color: #00af00\">32</span>, <span style=\"color: #00af00; text-decoration-color: #00af00\">128</span>)              │        <span style=\"color: #00af00; text-decoration-color: #00af00\">32,896</span> │\n",
       "├─────────────────────────────────┼────────────────────────┼───────────────┤\n",
       "│ dense_1 (<span style=\"color: #0087ff; text-decoration-color: #0087ff\">Dense</span>)                 │ (<span style=\"color: #00af00; text-decoration-color: #00af00\">32</span>, <span style=\"color: #00af00; text-decoration-color: #00af00\">1</span>)                │           <span style=\"color: #00af00; text-decoration-color: #00af00\">129</span> │\n",
       "└─────────────────────────────────┴────────────────────────┴───────────────┘\n",
       "</pre>\n"
      ],
      "text/plain": [
       "┏━━━━━━━━━━━━━━━━━━━━━━━━━━━━━━━━━┳━━━━━━━━━━━━━━━━━━━━━━━━┳━━━━━━━━━━━━━━━┓\n",
       "┃\u001b[1m \u001b[0m\u001b[1mLayer (type)                   \u001b[0m\u001b[1m \u001b[0m┃\u001b[1m \u001b[0m\u001b[1mOutput Shape          \u001b[0m\u001b[1m \u001b[0m┃\u001b[1m \u001b[0m\u001b[1m      Param #\u001b[0m\u001b[1m \u001b[0m┃\n",
       "┡━━━━━━━━━━━━━━━━━━━━━━━━━━━━━━━━━╇━━━━━━━━━━━━━━━━━━━━━━━━╇━━━━━━━━━━━━━━━┩\n",
       "│ embedding_1 (\u001b[38;5;33mEmbedding\u001b[0m)         │ (\u001b[38;5;34m32\u001b[0m, \u001b[38;5;34m500\u001b[0m, \u001b[38;5;34m128\u001b[0m)         │     \u001b[38;5;34m1,280,000\u001b[0m │\n",
       "├─────────────────────────────────┼────────────────────────┼───────────────┤\n",
       "│ simple_rnn_1 (\u001b[38;5;33mSimpleRNN\u001b[0m)        │ (\u001b[38;5;34m32\u001b[0m, \u001b[38;5;34m128\u001b[0m)              │        \u001b[38;5;34m32,896\u001b[0m │\n",
       "├─────────────────────────────────┼────────────────────────┼───────────────┤\n",
       "│ dense_1 (\u001b[38;5;33mDense\u001b[0m)                 │ (\u001b[38;5;34m32\u001b[0m, \u001b[38;5;34m1\u001b[0m)                │           \u001b[38;5;34m129\u001b[0m │\n",
       "└─────────────────────────────────┴────────────────────────┴───────────────┘\n"
      ]
     },
     "metadata": {},
     "output_type": "display_data"
    },
    {
     "data": {
      "text/html": [
       "<pre style=\"white-space:pre;overflow-x:auto;line-height:normal;font-family:Menlo,'DejaVu Sans Mono',consolas,'Courier New',monospace\"><span style=\"font-weight: bold\"> Total params: </span><span style=\"color: #00af00; text-decoration-color: #00af00\">1,313,027</span> (5.01 MB)\n",
       "</pre>\n"
      ],
      "text/plain": [
       "\u001b[1m Total params: \u001b[0m\u001b[38;5;34m1,313,027\u001b[0m (5.01 MB)\n"
      ]
     },
     "metadata": {},
     "output_type": "display_data"
    },
    {
     "data": {
      "text/html": [
       "<pre style=\"white-space:pre;overflow-x:auto;line-height:normal;font-family:Menlo,'DejaVu Sans Mono',consolas,'Courier New',monospace\"><span style=\"font-weight: bold\"> Trainable params: </span><span style=\"color: #00af00; text-decoration-color: #00af00\">1,313,025</span> (5.01 MB)\n",
       "</pre>\n"
      ],
      "text/plain": [
       "\u001b[1m Trainable params: \u001b[0m\u001b[38;5;34m1,313,025\u001b[0m (5.01 MB)\n"
      ]
     },
     "metadata": {},
     "output_type": "display_data"
    },
    {
     "data": {
      "text/html": [
       "<pre style=\"white-space:pre;overflow-x:auto;line-height:normal;font-family:Menlo,'DejaVu Sans Mono',consolas,'Courier New',monospace\"><span style=\"font-weight: bold\"> Non-trainable params: </span><span style=\"color: #00af00; text-decoration-color: #00af00\">0</span> (0.00 B)\n",
       "</pre>\n"
      ],
      "text/plain": [
       "\u001b[1m Non-trainable params: \u001b[0m\u001b[38;5;34m0\u001b[0m (0.00 B)\n"
      ]
     },
     "metadata": {},
     "output_type": "display_data"
    },
    {
     "data": {
      "text/html": [
       "<pre style=\"white-space:pre;overflow-x:auto;line-height:normal;font-family:Menlo,'DejaVu Sans Mono',consolas,'Courier New',monospace\"><span style=\"font-weight: bold\"> Optimizer params: </span><span style=\"color: #00af00; text-decoration-color: #00af00\">2</span> (12.00 B)\n",
       "</pre>\n"
      ],
      "text/plain": [
       "\u001b[1m Optimizer params: \u001b[0m\u001b[38;5;34m2\u001b[0m (12.00 B)\n"
      ]
     },
     "metadata": {},
     "output_type": "display_data"
    }
   ],
   "source": [
    "### Load the pretrained model\n",
    "model = load_model('simple_rnn_imdb.h5')\n",
    "model.summary()"
   ]
  },
  {
   "cell_type": "code",
   "execution_count": 5,
   "id": "8b538c9d",
   "metadata": {},
   "outputs": [
    {
     "data": {
      "text/plain": [
       "[array([[-0.1041864 ,  0.15677904, -0.13013227, ..., -0.2659257 ,\n",
       "         -0.27374327, -0.19598518],\n",
       "        [-0.00781467,  0.05077248, -0.07478014, ...,  0.02890679,\n",
       "         -0.03240665, -0.04117633],\n",
       "        [-0.10505006,  0.06427265,  0.02745371, ..., -0.1098731 ,\n",
       "         -0.15254806, -0.0949058 ],\n",
       "        ...,\n",
       "        [ 0.07778577, -0.11512189,  0.07066689, ..., -0.09854838,\n",
       "          0.10910445,  0.09323194],\n",
       "        [-0.0553508 , -0.0473211 ,  0.01230387, ...,  0.07174131,\n",
       "         -0.01328553, -0.09989177],\n",
       "        [ 0.09078123,  0.05178097,  0.14382839, ..., -0.19230326,\n",
       "          0.15685907,  0.16890278]], dtype=float32),\n",
       " array([[ 0.14921598, -0.03845419, -0.13600905, ..., -0.00573915,\n",
       "         -0.05407904, -0.00542923],\n",
       "        [ 0.09069521,  0.08740725,  0.04681807, ...,  0.01185814,\n",
       "          0.12739551, -0.15112782],\n",
       "        [-0.10908098, -0.1356448 , -0.13680406, ..., -0.11616675,\n",
       "         -0.1737295 ,  0.01572325],\n",
       "        ...,\n",
       "        [-0.07327116, -0.06564966,  0.08718189, ...,  0.17241211,\n",
       "          0.13006184,  0.11186016],\n",
       "        [-0.08086023, -0.14230038,  0.00258749, ...,  0.02869806,\n",
       "         -0.09067149,  0.05372612],\n",
       "        [ 0.07514062, -0.08738047,  0.13142964, ...,  0.08297823,\n",
       "          0.08668286, -0.12516685]], dtype=float32),\n",
       " array([[-0.13729006,  0.0225514 , -0.01975387, ..., -0.11984175,\n",
       "          0.00717859,  0.03815884],\n",
       "        [-0.02097166,  0.03552333,  0.03441038, ...,  0.10943048,\n",
       "          0.01670189, -0.04499144],\n",
       "        [-0.01100604,  0.07601622, -0.20484887, ..., -0.10635421,\n",
       "         -0.14684817, -0.20349477],\n",
       "        ...,\n",
       "        [ 0.07939865, -0.10334361,  0.03483884, ..., -0.14376211,\n",
       "          0.04627369,  0.16331005],\n",
       "        [ 0.05238239,  0.08988501,  0.06236633, ...,  0.03374949,\n",
       "         -0.10629631, -0.05054586],\n",
       "        [ 0.02082347,  0.0604245 ,  0.02427274, ...,  0.04002072,\n",
       "         -0.07427246, -0.08303989]], dtype=float32),\n",
       " array([-0.04516976,  0.04033528,  0.03042841, -0.04672669,  0.01206938,\n",
       "         0.06024325,  0.02319676, -0.03212744, -0.05991219, -0.03585773,\n",
       "        -0.0829104 , -0.01341223,  0.0136382 ,  0.05575691,  0.02147509,\n",
       "        -0.04483319, -0.03926314, -0.01107528, -0.02749712, -0.05709612,\n",
       "         0.05862578,  0.00805021, -0.06561781, -0.08202452, -0.02810653,\n",
       "         0.03708079, -0.07268406, -0.03123236, -0.03288571,  0.04106659,\n",
       "        -0.02799289,  0.02903643, -0.01782811, -0.03362179, -0.07040149,\n",
       "        -0.05671363, -0.0316841 , -0.0111984 , -0.04301954, -0.06186615,\n",
       "         0.00993989, -0.02976717,  0.03599795, -0.02265248, -0.0143791 ,\n",
       "         0.00653505,  0.05857824, -0.01747715,  0.07311762,  0.04741949,\n",
       "        -0.03447409,  0.00302197, -0.08233788,  0.01786547,  0.06526892,\n",
       "        -0.04323224, -0.08460391, -0.03359049, -0.03032488, -0.02109669,\n",
       "        -0.03607294,  0.04637011, -0.02669866,  0.0286207 , -0.0368896 ,\n",
       "        -0.06232802, -0.07267201, -0.07012475, -0.02226909,  0.01421017,\n",
       "        -0.05149069, -0.09622707, -0.02680284,  0.01302794, -0.03222585,\n",
       "         0.00115506, -0.03678237, -0.01193965,  0.05583755, -0.02829875,\n",
       "        -0.05739955, -0.06360242, -0.04864579, -0.07090182, -0.02102964,\n",
       "        -0.01953603,  0.05740329, -0.01578764, -0.02105459, -0.04757993,\n",
       "         0.04267575, -0.02528656, -0.05812301,  0.04700219, -0.04759575,\n",
       "        -0.02157463, -0.01618049, -0.02979071, -0.04470723, -0.01229869,\n",
       "         0.04116394,  0.03237752, -0.03998198, -0.02188328, -0.01127246,\n",
       "        -0.06216661, -0.04810173, -0.08330693, -0.04243232,  0.0173324 ,\n",
       "        -0.0449775 , -0.01665724, -0.04136621, -0.01144639, -0.02016237,\n",
       "        -0.03140618,  0.03999707, -0.05555601, -0.0788912 , -0.04879492,\n",
       "         0.01928457, -0.0437569 ,  0.02991424, -0.03137613,  0.00462327,\n",
       "        -0.05223652, -0.03846942,  0.00528052], dtype=float32),\n",
       " array([[ 1.21909022e-01],\n",
       "        [ 1.63493559e-01],\n",
       "        [ 4.74889547e-01],\n",
       "        [ 5.63500747e-02],\n",
       "        [ 9.37900171e-02],\n",
       "        [-2.68483818e-01],\n",
       "        [ 5.47574349e-02],\n",
       "        [-2.35954836e-01],\n",
       "        [ 8.33126307e-01],\n",
       "        [ 7.23533273e-01],\n",
       "        [ 2.20293611e-01],\n",
       "        [-2.73152918e-01],\n",
       "        [-1.85258195e-01],\n",
       "        [ 3.00174952e-01],\n",
       "        [-2.21899822e-01],\n",
       "        [-2.90404677e-01],\n",
       "        [ 5.82470357e-01],\n",
       "        [-1.33921057e-01],\n",
       "        [-5.08302674e-02],\n",
       "        [-8.23295042e-02],\n",
       "        [-2.05930725e-01],\n",
       "        [ 3.90274711e-02],\n",
       "        [ 4.51886177e-01],\n",
       "        [ 1.76689118e-01],\n",
       "        [-8.50510597e-02],\n",
       "        [ 2.74997115e-01],\n",
       "        [ 3.51175249e-01],\n",
       "        [ 2.11238220e-01],\n",
       "        [ 2.50802696e-01],\n",
       "        [-5.45097828e-01],\n",
       "        [ 1.56055287e-01],\n",
       "        [-4.70207445e-02],\n",
       "        [ 2.77227938e-01],\n",
       "        [ 1.66213170e-01],\n",
       "        [-8.34098235e-02],\n",
       "        [-2.40427732e-01],\n",
       "        [ 1.14330031e-01],\n",
       "        [-6.85304224e-01],\n",
       "        [ 1.49410009e-01],\n",
       "        [-1.96181089e-01],\n",
       "        [ 1.57751784e-01],\n",
       "        [ 1.47919267e-01],\n",
       "        [ 1.48741841e-01],\n",
       "        [-2.77291894e-01],\n",
       "        [-8.46376419e-02],\n",
       "        [-1.36427924e-01],\n",
       "        [-1.05134785e-01],\n",
       "        [ 2.24968448e-01],\n",
       "        [-3.64560068e-01],\n",
       "        [-2.63467997e-01],\n",
       "        [-9.28428708e-05],\n",
       "        [ 1.04709901e-01],\n",
       "        [-1.22968949e-01],\n",
       "        [ 4.37907994e-01],\n",
       "        [-7.59941414e-02],\n",
       "        [-8.29563811e-02],\n",
       "        [ 1.62981197e-01],\n",
       "        [ 3.17284539e-02],\n",
       "        [ 7.32125342e-02],\n",
       "        [ 3.19194794e-01],\n",
       "        [-3.24939005e-02],\n",
       "        [ 1.93217754e-01],\n",
       "        [ 3.72966230e-02],\n",
       "        [-1.28859654e-01],\n",
       "        [ 1.85835451e-01],\n",
       "        [ 1.73285469e-01],\n",
       "        [ 4.17198151e-01],\n",
       "        [ 2.10037619e-01],\n",
       "        [ 6.78114817e-02],\n",
       "        [-1.83774114e-01],\n",
       "        [ 8.45173150e-02],\n",
       "        [-2.00194255e-01],\n",
       "        [ 2.00865105e-01],\n",
       "        [-2.63892591e-01],\n",
       "        [ 2.12486669e-01],\n",
       "        [ 2.03276187e-01],\n",
       "        [-1.66979477e-01],\n",
       "        [-7.48204514e-02],\n",
       "        [-1.63299337e-01],\n",
       "        [ 4.02722925e-01],\n",
       "        [-2.72133738e-01],\n",
       "        [ 4.17058170e-01],\n",
       "        [-1.03208512e-01],\n",
       "        [ 3.95900309e-01],\n",
       "        [ 2.75142252e-01],\n",
       "        [ 2.58758038e-01],\n",
       "        [-7.18802884e-02],\n",
       "        [ 8.84591695e-03],\n",
       "        [ 2.60188937e-01],\n",
       "        [ 2.22861655e-02],\n",
       "        [-4.27838832e-01],\n",
       "        [ 1.48668602e-01],\n",
       "        [ 1.85048848e-01],\n",
       "        [-6.83263913e-02],\n",
       "        [ 2.43465737e-01],\n",
       "        [ 2.05216631e-01],\n",
       "        [ 5.12728155e-01],\n",
       "        [ 2.69262314e-01],\n",
       "        [ 8.77768025e-02],\n",
       "        [ 1.46130651e-01],\n",
       "        [ 1.79179415e-01],\n",
       "        [-3.17346513e-01],\n",
       "        [ 4.15927142e-01],\n",
       "        [-2.91714072e-01],\n",
       "        [ 4.59219784e-01],\n",
       "        [-7.62960166e-02],\n",
       "        [ 3.55111778e-01],\n",
       "        [ 1.39616951e-01],\n",
       "        [-4.19840693e-01],\n",
       "        [ 2.07242697e-01],\n",
       "        [ 1.36564836e-01],\n",
       "        [-4.56682473e-01],\n",
       "        [-1.35769516e-01],\n",
       "        [-5.73569059e-01],\n",
       "        [-7.27678955e-01],\n",
       "        [ 1.56940818e-01],\n",
       "        [-4.01436895e-01],\n",
       "        [ 2.01682560e-03],\n",
       "        [ 3.18826646e-01],\n",
       "        [ 2.39444152e-01],\n",
       "        [-6.50147557e-01],\n",
       "        [-2.26168305e-01],\n",
       "        [ 4.98770587e-02],\n",
       "        [ 1.81072593e-01],\n",
       "        [-3.46364141e-01],\n",
       "        [ 2.28473142e-01],\n",
       "        [ 1.99628472e-01],\n",
       "        [-1.01263069e-01]], dtype=float32),\n",
       " array([1.8509833], dtype=float32)]"
      ]
     },
     "execution_count": 5,
     "metadata": {},
     "output_type": "execute_result"
    }
   ],
   "source": [
    "model.get_weights()"
   ]
  },
  {
   "cell_type": "code",
   "execution_count": 6,
   "id": "4ff59230",
   "metadata": {},
   "outputs": [],
   "source": [
    "## Step2: Helper function\n",
    "## Function to Decode reviews\n",
    "def decode_review(encoded_review):\n",
    "    return ' '.join([reverse_word_index.get(i-3,'?') for i in encoded_review])\n",
    "\n",
    "# Function to preprocess user input\n",
    "def preprocess_text(text):\n",
    "    words =text.lower().split()\n",
    "    encoded_review = [word_index.get(word,2)+3 for word in words]\n",
    "    padded_review = sequence.pad_sequences([encoded_review],maxlen=500)\n",
    "    return padded_review\n",
    "    "
   ]
  },
  {
   "cell_type": "code",
   "execution_count": 7,
   "id": "3107e1f6",
   "metadata": {},
   "outputs": [],
   "source": [
    "## Prediction function\n",
    "def predict_sentiment(review):\n",
    "    preprocessed_input =preprocess_text(review)\n",
    "    \n",
    "    prediction= model.predict(preprocessed_input)\n",
    "    \n",
    "    sentiment = 'positive' if prediction>0.5 else 'negative'\n",
    "    \n",
    "    return sentiment, prediction[0][0]\n",
    "\n",
    "    "
   ]
  },
  {
   "cell_type": "code",
   "execution_count": 8,
   "id": "4d8ade1b",
   "metadata": {},
   "outputs": [
    {
     "name": "stdout",
     "output_type": "stream",
     "text": [
      "\u001b[1m1/1\u001b[0m \u001b[32m━━━━━━━━━━━━━━━━━━━━\u001b[0m\u001b[37m\u001b[0m \u001b[1m0s\u001b[0m 434ms/step\n",
      "review: This movie was fantastic! The action was great and the plot was thrilling.\n",
      "Sentiment: positive\n",
      "Prediction Score: 0.8320835828781128\n"
     ]
    }
   ],
   "source": [
    "# Step4: User Input and Prediction\n",
    "# Example review for prediction\n",
    "example_review = 'This movie was fantastic! The action was great and the plot was thrilling.'\n",
    "\n",
    "sentiment,score =predict_sentiment(example_review)\n",
    "\n",
    "print(f'review: {example_review}')\n",
    "print(f'Sentiment: {sentiment}')\n",
    "print(f'Prediction Score: {score}')"
   ]
  },
  {
   "cell_type": "code",
   "execution_count": null,
   "id": "51b1d2b8",
   "metadata": {},
   "outputs": [],
   "source": []
  }
 ],
 "metadata": {
  "kernelspec": {
   "display_name": "Python 3",
   "language": "python",
   "name": "python3"
  },
  "language_info": {
   "codemirror_mode": {
    "name": "ipython",
    "version": 3
   },
   "file_extension": ".py",
   "mimetype": "text/x-python",
   "name": "python",
   "nbconvert_exporter": "python",
   "pygments_lexer": "ipython3",
   "version": "3.11.0"
  }
 },
 "nbformat": 4,
 "nbformat_minor": 5
}
